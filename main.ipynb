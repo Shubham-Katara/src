{
 "cells": [
  {
   "cell_type": "code",
   "execution_count": 31,
   "metadata": {},
   "outputs": [],
   "source": [
    "# Correction that to be made:\n",
    "## rectify manual changes\n",
    "## check how pvalue is getting calculated"
   ]
  },
  {
   "cell_type": "code",
   "execution_count": 1,
   "metadata": {},
   "outputs": [],
   "source": [
    "import pandas as pd\n",
    "import numpy as np\n",
    "import pickle\n",
    "import inspect\n",
    "import matplotlib.pyplot as plt\n",
    "import seaborn as sns\n",
    "sns.set()\n",
    "\n",
    "import warnings\n",
    "warnings.filterwarnings('ignore')\n",
    "\n",
    "# importing modules\n",
    "import helper_functions\n",
    "import config\n",
    "import model_trainer\n",
    "import all_models\n",
    "\n",
    "pd.options.display.max_columns = None\n",
    "pd.options.display.max_rows = None\n",
    "\n",
    "# functions_list = [func for func in dir(helper_functions) if inspect.isfunction(getattr(helper_functions, func))]\n",
    "# functions_list"
   ]
  },
  {
   "cell_type": "markdown",
   "metadata": {},
   "source": [
    "# Importing Data and Exploring It"
   ]
  },
  {
   "cell_type": "code",
   "execution_count": 2,
   "metadata": {},
   "outputs": [],
   "source": [
    "# loan = pd.read_csv(r\"C:\\Shubham\\credit_scorecard\\input_data\\loan.csv\")\n",
    "loan_data_2007_2014 = pd.read_csv(r\"C:\\Shubham\\credit_scorecard\\input_data\\loan_data_2007_2014.csv\")\n",
    "# loan_data_2015 = pd.read_csv(r\"C:\\Shubham\\credit_scorecard\\input_data\\loan_data_2015_new.csv\")\n",
    "\n",
    "loan_data_backup = loan_data_2007_2014.iloc[:,1:]\n",
    "loan_data = loan_data_backup.copy()"
   ]
  },
  {
   "cell_type": "markdown",
   "metadata": {},
   "source": [
    "# General Preprocessing"
   ]
  },
  {
   "cell_type": "code",
   "execution_count": 3,
   "metadata": {},
   "outputs": [],
   "source": [
    "# extracted integers and dates from few columns\n",
    "loan_data = helper_functions.preprocessing_continous_variables(loan_data)\n",
    "\n",
    "# created dummy variables for required columns\n",
    "loan_data = helper_functions.preprocessing_discrete_variables(loan_data)\n",
    "\n",
    "# dealing with missing values\n",
    "loan_data = helper_functions.deal_with_missing_values(loan_data)"
   ]
  },
  {
   "cell_type": "markdown",
   "metadata": {},
   "source": [
    "# PD Model"
   ]
  },
  {
   "cell_type": "markdown",
   "metadata": {},
   "source": [
    "Adding Target Variable Column and Splitting Data"
   ]
  },
  {
   "cell_type": "code",
   "execution_count": 4,
   "metadata": {},
   "outputs": [],
   "source": [
    "# creating target variable\n",
    "loan_data = helper_functions.target_var(loan_data)\n",
    "\n",
    "# splitting data\n",
    "loan_data_inputs_train, loan_data_inputs_test, loan_data_targets_train, loan_data_targets_test = helper_functions.splitting_data(loan_data)\n",
    "\n",
    "# ## saving the splitted data\n",
    "# loan_data_inputs_train.to_csv(r'C:\\Shubham\\credit_scorecard\\output_data\\loan_data_inputs_train.csv',index=False)\n",
    "# loan_data_targets_train.to_csv(r'C:\\Shubham\\credit_scorecard\\output_data\\loan_data_targets_train.csv',index=False)\n",
    "# loan_data_inputs_test.to_csv(r'C:\\Shubham\\credit_scorecard\\output_data\\loan_data_inputs_test.csv',index=False)\n",
    "# loan_data_targets_test.to_csv(r'C:\\Shubham\\credit_scorecard\\output_data\\loan_data_targets_test.csv',index=False)"
   ]
  },
  {
   "cell_type": "markdown",
   "metadata": {},
   "source": [
    "Binning train data"
   ]
  },
  {
   "cell_type": "code",
   "execution_count": 5,
   "metadata": {},
   "outputs": [],
   "source": [
    "df_inputs_prepr_1 = loan_data_inputs_train.copy()\n",
    "df_targets_prepr_1 = loan_data_targets_train.copy()\n",
    "\n",
    "## binning discrete variables\n",
    "df_inputs_prepr_1,df_with_woe_n_iv_values_discrete = helper_functions.binning_discrete_variables(df_inputs_prepr_1,df_targets_prepr_1)\n",
    "\n",
    "## binning continous variables\n",
    "df_inputs_prepr_1,df_with_woe_n_iv_values_continous = helper_functions.binning_continous_variables(df_inputs_prepr_1,df_targets_prepr_1)\n",
    "\n",
    "## final df for woe and iv values\n",
    "df_with_woe_n_iv_values = pd.concat([df_with_woe_n_iv_values_discrete,df_with_woe_n_iv_values_continous],axis=0)\n",
    "df_with_woe_n_iv_values.to_csv(r\"C:\\Shubham\\credit_scorecard\\output_data\\df_with_woe_n_iv_values_train.csv\",index=False)"
   ]
  },
  {
   "cell_type": "markdown",
   "metadata": {},
   "source": [
    "Binning test data"
   ]
  },
  {
   "cell_type": "code",
   "execution_count": 6,
   "metadata": {},
   "outputs": [],
   "source": [
    "df_inputs_prepr_2 = loan_data_inputs_test.copy()\n",
    "df_targets_prepr_2 = loan_data_targets_test.copy()\n",
    "\n",
    "## binning discrete variables\n",
    "df_inputs_prepr_2,df_with_woe_n_iv_values_discrete = helper_functions.binning_discrete_variables(df_inputs_prepr_2,df_targets_prepr_2)\n",
    "\n",
    "## binning continous variables\n",
    "df_inputs_prepr_2,df_with_woe_n_iv_values_continous = helper_functions.binning_continous_variables(df_inputs_prepr_2,df_targets_prepr_2)\n",
    "\n",
    "## final df for woe and iv values\n",
    "df_with_woe_n_iv_values = pd.concat([df_with_woe_n_iv_values_discrete,df_with_woe_n_iv_values_continous],axis=0)\n",
    "df_with_woe_n_iv_values.to_csv(r\"C:\\Shubham\\credit_scorecard\\output_data\\df_with_woe_n_iv_values_test.csv\",index=False)"
   ]
  },
  {
   "cell_type": "markdown",
   "metadata": {},
   "source": [
    "# Applying All Models"
   ]
  },
  {
   "cell_type": "code",
   "execution_count": 7,
   "metadata": {},
   "outputs": [],
   "source": [
    "# inputs_train = helper_functions.get_input_train_data(loan_data_inputs_train)\n",
    "# inputs_test = helper_functions.get_input_train_data(loan_data_inputs_test)\n",
    "# model_report,r2_square = model_trainer.initiate_model_trainer(inputs_train,df_targets_prepr_1,inputs_test,df_targets_prepr_2)"
   ]
  },
  {
   "cell_type": "markdown",
   "metadata": {},
   "source": [
    "# Feature Selection"
   ]
  },
  {
   "cell_type": "markdown",
   "metadata": {},
   "source": [
    "Using p-value"
   ]
  },
  {
   "cell_type": "code",
   "execution_count": 8,
   "metadata": {},
   "outputs": [],
   "source": [
    "loan_data_inputs_train = df_inputs_prepr_1.copy()\n",
    "loan_data_inputs_test = df_inputs_prepr_2.copy()\n",
    "\n",
    "# list of variables that need to be removed from dataset.\n",
    "variables_to_be_removed = ['delinq_2yrs','open_acc','pub_rec','total_acc','total_rev_hi_lim']\n",
    "pvalue_features,pvalue_variables = helper_functions.feature_selection_using_pvalue(variables_to_be_removed)"
   ]
  },
  {
   "cell_type": "code",
   "execution_count": 10,
   "metadata": {},
   "outputs": [
    {
     "data": {
      "text/plain": [
       "['grade',\n",
       " 'home_ownership',\n",
       " 'addr_state',\n",
       " 'verification_status',\n",
       " 'purpose',\n",
       " 'initial_list_status',\n",
       " 'term',\n",
       " 'emp_length',\n",
       " 'mths_since_issue_d',\n",
       " 'int_rate',\n",
       " 'mths_since_earliest_cr_line',\n",
       " 'inq_last_6mths',\n",
       " 'acc_now_delinq',\n",
       " 'annual_inc',\n",
       " 'dti',\n",
       " 'mths_since_last_delinq',\n",
       " 'mths_since_last_record']"
      ]
     },
     "execution_count": 10,
     "metadata": {},
     "output_type": "execute_result"
    }
   ],
   "source": [
    "pvalue_variables"
   ]
  },
  {
   "cell_type": "markdown",
   "metadata": {},
   "source": [
    "using IV"
   ]
  },
  {
   "cell_type": "code",
   "execution_count": 11,
   "metadata": {},
   "outputs": [],
   "source": [
    "# inputs_train_with_ref_cat = loan_data_inputs_train.loc[: , pvalue_features]\n",
    "# inputs_test_with_ref_cat = loan_data_inputs_test.loc[: , pvalue_features]"
   ]
  },
  {
   "cell_type": "code",
   "execution_count": 12,
   "metadata": {},
   "outputs": [],
   "source": [
    "# # creating a dataframe which will contain for every customer original category name at every column.\n",
    "# final_df = helper_functions.original_var_col(inputs_train_with_ref_cat,pvalue_variables)\n",
    "\n",
    "# # calculating woe and IV, and applying IV filter\n",
    "# df_woe,df_iv,iv_variables,iv_features = helper_functions.feature_selection_using_iv(final_df,loan_data_targets_train,pvalue_variables)"
   ]
  },
  {
   "cell_type": "markdown",
   "metadata": {},
   "source": [
    "Selecting Features"
   ]
  },
  {
   "cell_type": "code",
   "execution_count": 13,
   "metadata": {},
   "outputs": [],
   "source": [
    "# inputs_train_with_ref_cat = loan_data_inputs_train.loc[: , iv_features]\n",
    "# inputs_test_with_ref_cat = loan_data_inputs_test.loc[: , iv_features]\n",
    "\n",
    "inputs_train_with_ref_cat = loan_data_inputs_train.loc[: , pvalue_features]\n",
    "inputs_test_with_ref_cat = loan_data_inputs_test.loc[: , pvalue_features]"
   ]
  },
  {
   "cell_type": "code",
   "execution_count": 14,
   "metadata": {},
   "outputs": [],
   "source": [
    "# # reference categories after IV filter\n",
    "# ref_categories = ['grade:G','annual_inc:<20K','int_rate:>20.281','mths_since_issue_d:>84']\n",
    "\n",
    "# inputs_train = inputs_train_with_ref_cat.drop(ref_categories, axis = 1)\n",
    "# inputs_test = inputs_test_with_ref_cat.drop(ref_categories, axis = 1)"
   ]
  },
  {
   "cell_type": "code",
   "execution_count": 15,
   "metadata": {},
   "outputs": [],
   "source": [
    "# reference categories after p-value filter\n",
    "ref_categories = [  'grade:G',\n",
    "                    'home_ownership:RENT_OTHER_NONE_ANY',\n",
    "                    'addr_state:ND_NE_IA_NV_FL_HI_AL',\n",
    "                    'verification_status:Verified',\n",
    "                    'purpose:educ__sm_b__wedd__ren_en__mov__house',\n",
    "                    'initial_list_status:f',\n",
    "                    'term:60',\n",
    "                    'emp_length:0',\n",
    "                    'mths_since_issue_d:>84',\n",
    "                    'int_rate:>20.281',\n",
    "                    'mths_since_earliest_cr_line:<140',\n",
    "                    'inq_last_6mths:>6',\n",
    "                    'acc_now_delinq:0',\n",
    "                    'annual_inc:<20K',\n",
    "                    'dti:>35',\n",
    "                    'mths_since_last_delinq:0-3',\n",
    "                    'mths_since_last_record:0-2']\n",
    "\n",
    "inputs_train = inputs_train_with_ref_cat.drop(ref_categories, axis = 1)\n",
    "inputs_test = inputs_test_with_ref_cat.drop(ref_categories, axis = 1)"
   ]
  },
  {
   "cell_type": "code",
   "execution_count": 16,
   "metadata": {},
   "outputs": [
    {
     "name": "stdout",
     "output_type": "stream",
     "text": [
      "(373028, 84)\n",
      "(373028,)\n",
      "(93257, 84)\n"
     ]
    }
   ],
   "source": [
    "print(inputs_train.shape)\n",
    "print(loan_data_targets_train.shape)\n",
    "print(inputs_test.shape)"
   ]
  },
  {
   "cell_type": "markdown",
   "metadata": {},
   "source": [
    "# PD Model Estimation"
   ]
  },
  {
   "cell_type": "markdown",
   "metadata": {},
   "source": [
    "Loading Data"
   ]
  },
  {
   "cell_type": "code",
   "execution_count": 17,
   "metadata": {},
   "outputs": [],
   "source": [
    "# loan_data_inputs_train = pd.read_csv('loan_data_inputs_train.csv', index_col = 0)\n",
    "# loan_data_targets_train = pd.read_csv('loan_data_targets_train.csv', index_col = 0, header = None)\n",
    "# loan_data_inputs_test = pd.read_csv('loan_data_inputs_test.csv', index_col = 0)\n",
    "# loan_data_targets_test = pd.read_csv('loan_data_targets_test.csv', index_col = 0, header = None)"
   ]
  },
  {
   "cell_type": "code",
   "execution_count": 18,
   "metadata": {},
   "outputs": [],
   "source": [
    "# inputs_test_with_ref_cat = loan_data_inputs_test.loc[: , iv_features]\n",
    "# inputs_test = inputs_test_with_ref_cat.drop(ref_categories, axis = 1)"
   ]
  },
  {
   "cell_type": "markdown",
   "metadata": {},
   "source": [
    "Logistic Regression"
   ]
  },
  {
   "cell_type": "code",
   "execution_count": 20,
   "metadata": {},
   "outputs": [],
   "source": [
    "# reg,summary_tablefor_lr = helper_functions.logistic_regression(inputs_train,loan_data_targets_train)\n",
    "# summary_tablefor_lr.to_csv(r\"C:\\Shubham\\credit_scorecard\\output_data\\summary_tablefor_lr.csv\",index=False)"
   ]
  },
  {
   "cell_type": "code",
   "execution_count": 21,
   "metadata": {},
   "outputs": [],
   "source": [
    "# pickle.dump(reg, open(r'C:\\Shubham\\credit_scorecard\\src\\lr_pd_model.sav', 'wb'))\n",
    "# pickle.dump(reg, open(r'C:\\Shubham\\credit_scorecard\\src\\lr_pd_model.pkl', 'wb'))"
   ]
  },
  {
   "cell_type": "markdown",
   "metadata": {},
   "source": [
    "Logistic Regression with p-values"
   ]
  },
  {
   "cell_type": "code",
   "execution_count": 18,
   "metadata": {},
   "outputs": [],
   "source": [
    "# reg,summary_tablefor_lr_with_p_values = helper_functions.logistic_regression_with_p_values(inputs_train,loan_data_targets_train)\n",
    "# summary_tablefor_lr_with_p_values.to_csv(r\"C:\\Shubham\\credit_scorecard\\output_data\\summary_tablefor_lr_with_p_values.csv\",index=False)"
   ]
  },
  {
   "cell_type": "code",
   "execution_count": 19,
   "metadata": {},
   "outputs": [],
   "source": [
    "# pickle.dump(reg, open(r'C:\\Shubham\\credit_scorecard\\src\\lr_with_pvalue_pd_model.sav', 'wb'))\n",
    "# pickle.dump(reg, open(r'C:\\Shubham\\credit_scorecard\\src\\lr_with_pvalue_pd_model.pkl', 'wb'))"
   ]
  },
  {
   "cell_type": "markdown",
   "metadata": {},
   "source": [
    "Logistic Regression with pvalue filtered features"
   ]
  },
  {
   "cell_type": "code",
   "execution_count": 37,
   "metadata": {},
   "outputs": [],
   "source": [
    "reg,summary_tablefor_lr_with_p_values = helper_functions.logistic_regression(inputs_train,loan_data_targets_train)\n",
    "summary_tablefor_lr_with_p_values.to_csv(r\"C:\\Shubham\\credit_scorecard\\output_data\\summary_table_for_lr_with_pvalue_features.csv\",index=False)"
   ]
  },
  {
   "cell_type": "code",
   "execution_count": 38,
   "metadata": {},
   "outputs": [],
   "source": [
    "pickle.dump(reg, open(r'C:\\Shubham\\credit_scorecard\\src\\lr_pd_model_with_pvalue_features.sav', 'wb'))\n",
    "pickle.dump(reg, open(r'C:\\Shubham\\credit_scorecard\\src\\lr_pd_model_with_pvalue_features.pkl', 'wb'))"
   ]
  },
  {
   "cell_type": "markdown",
   "metadata": {},
   "source": [
    "Decision Tree"
   ]
  },
  {
   "cell_type": "code",
   "execution_count": 22,
   "metadata": {},
   "outputs": [],
   "source": [
    "# dt_best_model, dt_best_params = all_models.decision_tree(inputs_train,loan_data_targets_train)\n",
    "\n",
    "# pickle.dump(reg, open(r'C:\\Shubham\\credit_scorecard\\src\\dt_pd_model.sav', 'wb'))\n",
    "# pickle.dump(reg, open(r'C:\\Shubham\\credit_scorecard\\src\\dt_pd_model.pkl', 'wb'))\n",
    "\n",
    "# df_actual_predicted_probs = all_models.out_of_sample_validation(inputs_test,loan_data_targets_test,dt_best_model)\n",
    "\n",
    "# df_actual_predicted_probs, confusion_matrix, accuracy, fpr, tpr, thresholds, AUROC, Gini, KS = all_models.evaluate_model(df_actual_predicted_probs)\n",
    "# print('confusion_matrix',confusion_matrix)\n",
    "# print('accuracy:',accuracy)\n",
    "# print('fpr:',fpr)\n",
    "# print('tpr:',tpr)\n",
    "# print('thresholds:',thresholds)\n",
    "# print('AUROC:',AUROC)\n",
    "# print('Gini',Gini)\n",
    "# print('KS',KS)"
   ]
  },
  {
   "cell_type": "markdown",
   "metadata": {},
   "source": [
    "Random Forest"
   ]
  },
  {
   "cell_type": "code",
   "execution_count": 24,
   "metadata": {},
   "outputs": [],
   "source": [
    "# rf_best_model, rf_best_params = all_models.random_forest(inputs_train,loan_data_targets_train)\n",
    "# df_actual_predicted_probs = all_models.out_of_sample_validation(inputs_test,loan_data_targets_test,rf_best_model)\n",
    "# df_actual_predicted_probs, confusion_matrix, accuracy, fpr, tpr, thresholds, AUROC, Gini, KS = all_models.evaluate_model(df_actual_predicted_probs)\n",
    "# print('confusion_matrix',confusion_matrix)\n",
    "# print('accuracy:',accuracy)\n",
    "# print('fpr:',fpr)\n",
    "# print('tpr:',tpr)\n",
    "# print('thresholds:',thresholds)\n",
    "# print('AUROC:',AUROC)\n",
    "# print('Gini',Gini)\n",
    "# print('KS',KS)"
   ]
  },
  {
   "cell_type": "markdown",
   "metadata": {},
   "source": [
    "Gaussian Naive Bayes"
   ]
  },
  {
   "cell_type": "code",
   "execution_count": 25,
   "metadata": {},
   "outputs": [],
   "source": [
    "# nb_classifier = all_models.gauss_NB(inputs_train,loan_data_targets_train)\n",
    "# df_actual_predicted_probs = all_models.out_of_sample_validation(inputs_test,loan_data_targets_test,nb_classifier)\n",
    "# df_actual_predicted_probs, confusion_matrix, accuracy, fpr, tpr, thresholds, AUROC, Gini, KS = all_models.evaluate_model(df_actual_predicted_probs)\n",
    "# print('confusion_matrix',confusion_matrix)\n",
    "# print('accuracy:',accuracy)\n",
    "# print('fpr:',fpr)\n",
    "# print('tpr:',tpr)\n",
    "# print('thresholds:',thresholds)\n",
    "# print('AUROC:',AUROC)\n",
    "# print('Gini',Gini)\n",
    "# print('KS',KS)"
   ]
  },
  {
   "cell_type": "markdown",
   "metadata": {},
   "source": [
    "# PD Model Validation"
   ]
  },
  {
   "cell_type": "code",
   "execution_count": 26,
   "metadata": {},
   "outputs": [],
   "source": [
    "# Here, from the dataframe with inputs for testing, we keep the same variables that we used in our final PD model.\n",
    "# So, make appropriate changes in the code.\n",
    "# inputs_test = helper_functions.get_input_test_data(loan_data_inputs_test)\n",
    "inputs_test_with_ref_cat = loan_data_inputs_test.loc[: , iv_features]\n",
    "inputs_test = inputs_test_with_ref_cat.drop(ref_categories, axis = 1)\n",
    "df_actual_predicted_probs = helper_functions.out_of_sample_validation(inputs_test,loan_data_targets_test,reg)"
   ]
  },
  {
   "cell_type": "code",
   "execution_count": 143,
   "metadata": {},
   "outputs": [
    {
     "data": {
      "text/html": [
       "<div>\n",
       "<style scoped>\n",
       "    .dataframe tbody tr th:only-of-type {\n",
       "        vertical-align: middle;\n",
       "    }\n",
       "\n",
       "    .dataframe tbody tr th {\n",
       "        vertical-align: top;\n",
       "    }\n",
       "\n",
       "    .dataframe thead th {\n",
       "        text-align: right;\n",
       "    }\n",
       "</style>\n",
       "<table border=\"1\" class=\"dataframe\">\n",
       "  <thead>\n",
       "    <tr style=\"text-align: right;\">\n",
       "      <th></th>\n",
       "      <th>grade:A</th>\n",
       "      <th>grade:B</th>\n",
       "      <th>grade:C</th>\n",
       "      <th>grade:D</th>\n",
       "      <th>grade:E</th>\n",
       "      <th>grade:F</th>\n",
       "      <th>mths_since_issue_d:&lt;38</th>\n",
       "      <th>mths_since_issue_d:38-39</th>\n",
       "      <th>mths_since_issue_d:40-41</th>\n",
       "      <th>mths_since_issue_d:42-48</th>\n",
       "      <th>mths_since_issue_d:49-52</th>\n",
       "      <th>mths_since_issue_d:53-64</th>\n",
       "      <th>mths_since_issue_d:65-84</th>\n",
       "      <th>int_rate:&lt;9.548</th>\n",
       "      <th>int_rate:9.548-12.025</th>\n",
       "      <th>int_rate:12.025-15.74</th>\n",
       "      <th>int_rate:15.74-20.281</th>\n",
       "      <th>annual_inc:20K-30K</th>\n",
       "      <th>annual_inc:30K-40K</th>\n",
       "      <th>annual_inc:40K-50K</th>\n",
       "      <th>annual_inc:50K-60K</th>\n",
       "      <th>annual_inc:60K-70K</th>\n",
       "      <th>annual_inc:70K-80K</th>\n",
       "      <th>annual_inc:80K-90K</th>\n",
       "      <th>annual_inc:90K-100K</th>\n",
       "      <th>annual_inc:100K-120K</th>\n",
       "      <th>annual_inc:120K-140K</th>\n",
       "      <th>annual_inc:&gt;140K</th>\n",
       "    </tr>\n",
       "  </thead>\n",
       "  <tbody>\n",
       "    <tr>\n",
       "      <th>362514</th>\n",
       "      <td>0</td>\n",
       "      <td>0</td>\n",
       "      <td>1</td>\n",
       "      <td>0</td>\n",
       "      <td>0</td>\n",
       "      <td>0</td>\n",
       "      <td>0</td>\n",
       "      <td>0</td>\n",
       "      <td>1</td>\n",
       "      <td>0</td>\n",
       "      <td>0</td>\n",
       "      <td>0</td>\n",
       "      <td>0</td>\n",
       "      <td>0</td>\n",
       "      <td>0</td>\n",
       "      <td>1</td>\n",
       "      <td>0</td>\n",
       "      <td>0</td>\n",
       "      <td>0</td>\n",
       "      <td>0</td>\n",
       "      <td>0</td>\n",
       "      <td>1</td>\n",
       "      <td>0</td>\n",
       "      <td>0</td>\n",
       "      <td>0</td>\n",
       "      <td>0</td>\n",
       "      <td>0</td>\n",
       "      <td>0</td>\n",
       "    </tr>\n",
       "  </tbody>\n",
       "</table>\n",
       "</div>"
      ],
      "text/plain": [
       "        grade:A  grade:B  grade:C  grade:D  grade:E  grade:F  \\\n",
       "362514        0        0        1        0        0        0   \n",
       "\n",
       "        mths_since_issue_d:<38  mths_since_issue_d:38-39  \\\n",
       "362514                       0                         0   \n",
       "\n",
       "        mths_since_issue_d:40-41  mths_since_issue_d:42-48  \\\n",
       "362514                         1                         0   \n",
       "\n",
       "        mths_since_issue_d:49-52  mths_since_issue_d:53-64  \\\n",
       "362514                         0                         0   \n",
       "\n",
       "        mths_since_issue_d:65-84  int_rate:<9.548  int_rate:9.548-12.025  \\\n",
       "362514                         0                0                      0   \n",
       "\n",
       "        int_rate:12.025-15.74  int_rate:15.74-20.281  annual_inc:20K-30K  \\\n",
       "362514                      1                      0                   0   \n",
       "\n",
       "        annual_inc:30K-40K  annual_inc:40K-50K  annual_inc:50K-60K  \\\n",
       "362514                   0                   0                   0   \n",
       "\n",
       "        annual_inc:60K-70K  annual_inc:70K-80K  annual_inc:80K-90K  \\\n",
       "362514                   1                   0                   0   \n",
       "\n",
       "        annual_inc:90K-100K  annual_inc:100K-120K  annual_inc:120K-140K  \\\n",
       "362514                    0                     0                     0   \n",
       "\n",
       "        annual_inc:>140K  \n",
       "362514                 0  "
      ]
     },
     "execution_count": 143,
     "metadata": {},
     "output_type": "execute_result"
    }
   ],
   "source": [
    "inputs_test.head(1)"
   ]
  },
  {
   "cell_type": "code",
   "execution_count": 152,
   "metadata": {},
   "outputs": [],
   "source": [
    "with open(r'C:\\Shubham\\credit_scorecard\\src\\pd_model.pkl',\"rb\") as file_obj:\n",
    "    model = pickle.load(file_obj)\n",
    "pred_dict = {\n",
    "    \"default_prediction\" : model.model.predict(inputs_test.head(1)),\n",
    "    \"default_prob\" : model.model.predict_proba(inputs_test.head(1))\n",
    "}"
   ]
  },
  {
   "cell_type": "code",
   "execution_count": 153,
   "metadata": {},
   "outputs": [
    {
     "data": {
      "text/plain": [
       "{'default_prediction': array([1]),\n",
       " 'default_prob': array([[0.07765661, 0.92234339]])}"
      ]
     },
     "execution_count": 153,
     "metadata": {},
     "output_type": "execute_result"
    }
   ],
   "source": [
    "pred_dict"
   ]
  },
  {
   "cell_type": "code",
   "execution_count": 149,
   "metadata": {},
   "outputs": [
    {
     "data": {
      "text/html": [
       "<div>\n",
       "<style scoped>\n",
       "    .dataframe tbody tr th:only-of-type {\n",
       "        vertical-align: middle;\n",
       "    }\n",
       "\n",
       "    .dataframe tbody tr th {\n",
       "        vertical-align: top;\n",
       "    }\n",
       "\n",
       "    .dataframe thead th {\n",
       "        text-align: right;\n",
       "    }\n",
       "</style>\n",
       "<table border=\"1\" class=\"dataframe\">\n",
       "  <thead>\n",
       "    <tr style=\"text-align: right;\">\n",
       "      <th></th>\n",
       "      <th>grade:A</th>\n",
       "      <th>grade:B</th>\n",
       "      <th>grade:C</th>\n",
       "      <th>grade:D</th>\n",
       "      <th>grade:E</th>\n",
       "      <th>grade:F</th>\n",
       "      <th>mths_since_issue_d:&lt;38</th>\n",
       "      <th>mths_since_issue_d:38-39</th>\n",
       "      <th>mths_since_issue_d:40-41</th>\n",
       "      <th>mths_since_issue_d:42-48</th>\n",
       "      <th>mths_since_issue_d:49-52</th>\n",
       "      <th>mths_since_issue_d:53-64</th>\n",
       "      <th>mths_since_issue_d:65-84</th>\n",
       "      <th>int_rate:&lt;9.548</th>\n",
       "      <th>int_rate:9.548-12.025</th>\n",
       "      <th>int_rate:12.025-15.74</th>\n",
       "      <th>int_rate:15.74-20.281</th>\n",
       "      <th>annual_inc:20K-30K</th>\n",
       "      <th>annual_inc:30K-40K</th>\n",
       "      <th>annual_inc:40K-50K</th>\n",
       "      <th>annual_inc:50K-60K</th>\n",
       "      <th>annual_inc:60K-70K</th>\n",
       "      <th>annual_inc:70K-80K</th>\n",
       "      <th>annual_inc:80K-90K</th>\n",
       "      <th>annual_inc:90K-100K</th>\n",
       "      <th>annual_inc:100K-120K</th>\n",
       "      <th>annual_inc:120K-140K</th>\n",
       "      <th>annual_inc:&gt;140K</th>\n",
       "    </tr>\n",
       "  </thead>\n",
       "  <tbody>\n",
       "    <tr>\n",
       "      <th>362514</th>\n",
       "      <td>0</td>\n",
       "      <td>0</td>\n",
       "      <td>1</td>\n",
       "      <td>0</td>\n",
       "      <td>0</td>\n",
       "      <td>0</td>\n",
       "      <td>0</td>\n",
       "      <td>0</td>\n",
       "      <td>1</td>\n",
       "      <td>0</td>\n",
       "      <td>0</td>\n",
       "      <td>0</td>\n",
       "      <td>0</td>\n",
       "      <td>0</td>\n",
       "      <td>0</td>\n",
       "      <td>1</td>\n",
       "      <td>0</td>\n",
       "      <td>0</td>\n",
       "      <td>0</td>\n",
       "      <td>0</td>\n",
       "      <td>0</td>\n",
       "      <td>1</td>\n",
       "      <td>0</td>\n",
       "      <td>0</td>\n",
       "      <td>0</td>\n",
       "      <td>0</td>\n",
       "      <td>0</td>\n",
       "      <td>0</td>\n",
       "    </tr>\n",
       "  </tbody>\n",
       "</table>\n",
       "</div>"
      ],
      "text/plain": [
       "        grade:A  grade:B  grade:C  grade:D  grade:E  grade:F  \\\n",
       "362514        0        0        1        0        0        0   \n",
       "\n",
       "        mths_since_issue_d:<38  mths_since_issue_d:38-39  \\\n",
       "362514                       0                         0   \n",
       "\n",
       "        mths_since_issue_d:40-41  mths_since_issue_d:42-48  \\\n",
       "362514                         1                         0   \n",
       "\n",
       "        mths_since_issue_d:49-52  mths_since_issue_d:53-64  \\\n",
       "362514                         0                         0   \n",
       "\n",
       "        mths_since_issue_d:65-84  int_rate:<9.548  int_rate:9.548-12.025  \\\n",
       "362514                         0                0                      0   \n",
       "\n",
       "        int_rate:12.025-15.74  int_rate:15.74-20.281  annual_inc:20K-30K  \\\n",
       "362514                      1                      0                   0   \n",
       "\n",
       "        annual_inc:30K-40K  annual_inc:40K-50K  annual_inc:50K-60K  \\\n",
       "362514                   0                   0                   0   \n",
       "\n",
       "        annual_inc:60K-70K  annual_inc:70K-80K  annual_inc:80K-90K  \\\n",
       "362514                   1                   0                   0   \n",
       "\n",
       "        annual_inc:90K-100K  annual_inc:100K-120K  annual_inc:120K-140K  \\\n",
       "362514                    0                     0                     0   \n",
       "\n",
       "        annual_inc:>140K  \n",
       "362514                 0  "
      ]
     },
     "execution_count": 149,
     "metadata": {},
     "output_type": "execute_result"
    }
   ],
   "source": [
    "inputs_test.head(1)"
   ]
  },
  {
   "cell_type": "code",
   "execution_count": 145,
   "metadata": {},
   "outputs": [
    {
     "data": {
      "text/html": [
       "<div>\n",
       "<style scoped>\n",
       "    .dataframe tbody tr th:only-of-type {\n",
       "        vertical-align: middle;\n",
       "    }\n",
       "\n",
       "    .dataframe tbody tr th {\n",
       "        vertical-align: top;\n",
       "    }\n",
       "\n",
       "    .dataframe thead th {\n",
       "        text-align: right;\n",
       "    }\n",
       "</style>\n",
       "<table border=\"1\" class=\"dataframe\">\n",
       "  <thead>\n",
       "    <tr style=\"text-align: right;\">\n",
       "      <th></th>\n",
       "      <th>grade:A</th>\n",
       "      <th>grade:B</th>\n",
       "      <th>grade:C</th>\n",
       "      <th>grade:D</th>\n",
       "      <th>grade:E</th>\n",
       "      <th>grade:F</th>\n",
       "      <th>grade:G</th>\n",
       "      <th>mths_since_issue_d:&lt;38</th>\n",
       "      <th>mths_since_issue_d:38-39</th>\n",
       "      <th>mths_since_issue_d:40-41</th>\n",
       "      <th>mths_since_issue_d:42-48</th>\n",
       "      <th>mths_since_issue_d:49-52</th>\n",
       "      <th>mths_since_issue_d:53-64</th>\n",
       "      <th>mths_since_issue_d:65-84</th>\n",
       "      <th>mths_since_issue_d:&gt;84</th>\n",
       "      <th>int_rate:&lt;9.548</th>\n",
       "      <th>int_rate:9.548-12.025</th>\n",
       "      <th>int_rate:12.025-15.74</th>\n",
       "      <th>int_rate:15.74-20.281</th>\n",
       "      <th>int_rate:&gt;20.281</th>\n",
       "      <th>annual_inc:&lt;20K</th>\n",
       "      <th>annual_inc:20K-30K</th>\n",
       "      <th>annual_inc:30K-40K</th>\n",
       "      <th>annual_inc:40K-50K</th>\n",
       "      <th>annual_inc:50K-60K</th>\n",
       "      <th>annual_inc:60K-70K</th>\n",
       "      <th>annual_inc:70K-80K</th>\n",
       "      <th>annual_inc:80K-90K</th>\n",
       "      <th>annual_inc:90K-100K</th>\n",
       "      <th>annual_inc:100K-120K</th>\n",
       "      <th>annual_inc:120K-140K</th>\n",
       "      <th>annual_inc:&gt;140K</th>\n",
       "    </tr>\n",
       "  </thead>\n",
       "  <tbody>\n",
       "    <tr>\n",
       "      <th>0</th>\n",
       "      <td>0</td>\n",
       "      <td>0</td>\n",
       "      <td>0</td>\n",
       "      <td>0</td>\n",
       "      <td>0</td>\n",
       "      <td>0</td>\n",
       "      <td>0</td>\n",
       "      <td>0</td>\n",
       "      <td>0</td>\n",
       "      <td>0</td>\n",
       "      <td>0</td>\n",
       "      <td>0</td>\n",
       "      <td>0</td>\n",
       "      <td>0</td>\n",
       "      <td>0</td>\n",
       "      <td>0</td>\n",
       "      <td>0</td>\n",
       "      <td>0</td>\n",
       "      <td>0</td>\n",
       "      <td>0</td>\n",
       "      <td>0</td>\n",
       "      <td>0</td>\n",
       "      <td>0</td>\n",
       "      <td>0</td>\n",
       "      <td>0</td>\n",
       "      <td>0</td>\n",
       "      <td>0</td>\n",
       "      <td>0</td>\n",
       "      <td>0</td>\n",
       "      <td>0</td>\n",
       "      <td>0</td>\n",
       "      <td>0</td>\n",
       "    </tr>\n",
       "  </tbody>\n",
       "</table>\n",
       "</div>"
      ],
      "text/plain": [
       "   grade:A  grade:B  grade:C  grade:D  grade:E  grade:F  grade:G  \\\n",
       "0        0        0        0        0        0        0        0   \n",
       "\n",
       "   mths_since_issue_d:<38  mths_since_issue_d:38-39  mths_since_issue_d:40-41  \\\n",
       "0                       0                         0                         0   \n",
       "\n",
       "   mths_since_issue_d:42-48  mths_since_issue_d:49-52  \\\n",
       "0                         0                         0   \n",
       "\n",
       "   mths_since_issue_d:53-64  mths_since_issue_d:65-84  mths_since_issue_d:>84  \\\n",
       "0                         0                         0                       0   \n",
       "\n",
       "   int_rate:<9.548  int_rate:9.548-12.025  int_rate:12.025-15.74  \\\n",
       "0                0                      0                      0   \n",
       "\n",
       "   int_rate:15.74-20.281  int_rate:>20.281  annual_inc:<20K  \\\n",
       "0                      0                 0                0   \n",
       "\n",
       "   annual_inc:20K-30K  annual_inc:30K-40K  annual_inc:40K-50K  \\\n",
       "0                   0                   0                   0   \n",
       "\n",
       "   annual_inc:50K-60K  annual_inc:60K-70K  annual_inc:70K-80K  \\\n",
       "0                   0                   0                   0   \n",
       "\n",
       "   annual_inc:80K-90K  annual_inc:90K-100K  annual_inc:100K-120K  \\\n",
       "0                   0                    0                     0   \n",
       "\n",
       "   annual_inc:120K-140K  annual_inc:>140K  \n",
       "0                     0                 0  "
      ]
     },
     "execution_count": 145,
     "metadata": {},
     "output_type": "execute_result"
    }
   ],
   "source": [
    "pd.DataFrame({key: 0 for key in iv_features},index=[0])"
   ]
  },
  {
   "cell_type": "markdown",
   "metadata": {},
   "source": [
    "accuracy and area under the curve"
   ]
  },
  {
   "cell_type": "code",
   "execution_count": 27,
   "metadata": {},
   "outputs": [
    {
     "name": "stdout",
     "output_type": "stream",
     "text": [
      "Predicted   0      1\n",
      "Actual              \n",
      "0          27  10163\n",
      "1          20  83047\n",
      "accuracy: 0.8908071243981684\n",
      "fpr: [0.00000000e+00 9.81354269e-05 1.96270854e-04 ... 9.99705594e-01\n",
      " 9.99803729e-01 1.00000000e+00]\n",
      "tpr: [0.00000000e+00 6.62116123e-04 2.46788737e-03 ... 1.00000000e+00\n",
      " 1.00000000e+00 1.00000000e+00]\n",
      "thresholds: [1.98652064 0.98652064 0.98599924 ... 0.5566961  0.54358834 0.51322152]\n",
      "AUROC: 0.6929638114582015\n"
     ]
    },
    {
     "data": {
      "image/png": "[encoded data removed]",
      "text/plain": [
       "<Figure size 640x480 with 1 Axes>"
      ]
     },
     "metadata": {},
     "output_type": "display_data"
    }
   ],
   "source": [
    "df_actual_predicted_probs, confusion_matrix, accuracy, fpr, tpr, thresholds, AUROC = helper_functions.accuracy_n_auc(df_actual_predicted_probs)\n",
    "print('accuracy:',accuracy)\n",
    "print('fpr:',fpr)\n",
    "print('tpr:',tpr)\n",
    "print('thresholds:',thresholds)\n",
    "print('AUROC:',AUROC)"
   ]
  },
  {
   "cell_type": "code",
   "execution_count": 28,
   "metadata": {},
   "outputs": [
    {
     "data": {
      "image/png": "[encoded data removed]",
      "text/plain": [
       "<Figure size 640x480 with 1 Axes>"
      ]
     },
     "metadata": {},
     "output_type": "display_data"
    }
   ],
   "source": [
    "# threshold vs fpr and tpr curves\n",
    "data = {'fpr': fpr, 'tpr': tpr, 'thresholds': thresholds}\n",
    "df = pd.DataFrame(data)\n",
    "# Plotting the curve\n",
    "plt.plot(df['thresholds'], df['fpr'], label='fpr vs thresholds')\n",
    "plt.plot(df['thresholds'], df['tpr'], label='tpr vs thresholds')\n",
    "plt.xlabel('thresholds')\n",
    "plt.show()"
   ]
  },
  {
   "cell_type": "markdown",
   "metadata": {},
   "source": [
    "calculating GINI and Kolmogorov-Smirnov"
   ]
  },
  {
   "cell_type": "code",
   "execution_count": 29,
   "metadata": {},
   "outputs": [
    {
     "name": "stdout",
     "output_type": "stream",
     "text": [
      "Gini: 0.38592762291640303\n",
      "KS: 0.2823748125899482\n"
     ]
    },
    {
     "data": {
      "image/png": "[encoded data removed]",
      "text/plain": [
       "<Figure size 640x480 with 1 Axes>"
      ]
     },
     "metadata": {},
     "output_type": "display_data"
    }
   ],
   "source": [
    "df_actual_predicted_probs, Gini, KS = helper_functions.gini_n_ks(df_actual_predicted_probs,AUROC)\n",
    "print('Gini:',Gini)\n",
    "print('KS:',KS)"
   ]
  },
  {
   "cell_type": "markdown",
   "metadata": {},
   "source": [
    "# Creating Scorecard"
   ]
  },
  {
   "cell_type": "code",
   "execution_count": 23,
   "metadata": {},
   "outputs": [
    {
     "ename": "NameError",
     "evalue": "name 'summary_tablefor_lr_with_p_values' is not defined",
     "output_type": "error",
     "traceback": [
      "\u001b[1;31m---------------------------------------------------------------------------\u001b[0m",
      "\u001b[1;31mNameError\u001b[0m                                 Traceback (most recent call last)",
      "\u001b[1;32m~\\AppData\\Local\\Temp\\ipykernel_3440\\2596017941.py\u001b[0m in \u001b[0;36m<module>\u001b[1;34m\u001b[0m\n\u001b[0;32m      1\u001b[0m \u001b[1;31m# creating scorecard after feature selection using IV\u001b[0m\u001b[1;33m\u001b[0m\u001b[1;33m\u001b[0m\u001b[1;33m\u001b[0m\u001b[0m\n\u001b[1;32m----> 2\u001b[1;33m \u001b[0mdf_scorecard\u001b[0m\u001b[1;33m,\u001b[0m\u001b[0mmin_sum_score_prel\u001b[0m\u001b[1;33m,\u001b[0m\u001b[0mmax_sum_score_prel\u001b[0m\u001b[1;33m,\u001b[0m\u001b[0mmin_sum_coef\u001b[0m\u001b[1;33m,\u001b[0m\u001b[0mmax_sum_coef\u001b[0m \u001b[1;33m=\u001b[0m \u001b[0mhelper_functions\u001b[0m\u001b[1;33m.\u001b[0m\u001b[0msocrecard\u001b[0m\u001b[1;33m(\u001b[0m\u001b[0mref_categories\u001b[0m\u001b[1;33m,\u001b[0m\u001b[0msummary_tablefor_lr_with_p_values\u001b[0m\u001b[1;33m)\u001b[0m\u001b[1;33m\u001b[0m\u001b[1;33m\u001b[0m\u001b[0m\n\u001b[0m",
      "\u001b[1;31mNameError\u001b[0m: name 'summary_tablefor_lr_with_p_values' is not defined"
     ]
    }
   ],
   "source": [
    "# creating scorecard after feature selection using IV\n",
    "df_scorecard,min_sum_score_prel,max_sum_score_prel,min_sum_coef,max_sum_coef = helper_functions.socrecard(ref_categories,summary_tablefor_lr_with_p_values)"
   ]
  },
  {
   "cell_type": "markdown",
   "metadata": {},
   "source": [
    "# Applying the PD Model"
   ]
  },
  {
   "cell_type": "code",
   "execution_count": 31,
   "metadata": {},
   "outputs": [],
   "source": [
    "# calculating credit score\n",
    "y_scores = helper_functions.calc_credit_score(inputs_test_with_ref_cat,df_scorecard)\n",
    "\n",
    "# From Credit Score to PD\n",
    "y_hat_proba_from_score = helper_functions.credit_score_to_pd(y_scores,min_sum_coef,max_sum_coef)\n",
    "\n",
    "# setting cut-off\n",
    "df_cutoffs = helper_functions.set_cut_off(df_actual_predicted_probs,fpr,tpr,thresholds,min_sum_coef,max_sum_coef,min_score=300,max_score=850)"
   ]
  },
  {
   "cell_type": "markdown",
   "metadata": {},
   "source": [
    "# Preprocessing the Test Dataset"
   ]
  },
  {
   "cell_type": "code",
   "execution_count": 32,
   "metadata": {},
   "outputs": [],
   "source": [
    "loan_data_inputs_train = pd.read_csv(r'C:\\Shubham\\credit_scorecard\\output_data\\loan_data_inputs_train.csv')\n",
    "loan_data_targets_train = pd.read_csv(r'C:\\Shubham\\credit_scorecard\\output_data\\loan_data_targets_train.csv')\n",
    "loan_data_inputs_test = pd.read_csv(r'C:\\Shubham\\credit_scorecard\\output_data\\loan_data_inputs_test.csv')\n",
    "loan_data_targets_test = pd.read_csv(r'C:\\Shubham\\credit_scorecard\\output_data\\loan_data_targets_test.csv')\n",
    "loan_data_backup = pd.read_csv(r\"C:\\Shubham\\credit_scorecard\\input_data\\loan_data_2015_new.csv\")\n",
    "# loan_data_backup contains original columns only\n",
    "loan_data = loan_data_backup.copy()"
   ]
  },
  {
   "cell_type": "code",
   "execution_count": 33,
   "metadata": {},
   "outputs": [],
   "source": [
    "loan_data = helper_functions.preprocessing_continous_variables(loan_data)\n",
    "loan_data = helper_functions.preprocessing_discrete_variables(loan_data)\n",
    "loan_data = helper_functions.deal_with_missing_values(loan_data)\n",
    "loan_data = helper_functions.target_var(loan_data)"
   ]
  },
  {
   "cell_type": "code",
   "execution_count": 34,
   "metadata": {},
   "outputs": [],
   "source": [
    "df_inputs_prepr = loan_data.drop('good_bad',axis=1)\n",
    "df_targets_prepr = loan_data['good_bad']\n",
    "\n",
    "# binning discrete variables\n",
    "df_inputs_prepr,df_new_data_with_woe_n_iv_values_discrete = helper_functions.binning_discrete_variables(df_inputs_prepr,df_targets_prepr)\n",
    "\n",
    "# binning continous variables\n",
    "df_inputs_prepr,df_new_data_with_woe_n_iv_values_continous = helper_functions.binning_continous_variables(df_inputs_prepr,df_targets_prepr)\n",
    "\n",
    "# df_inputs_prepr contains all the features including reference ones\n",
    "\n",
    "# final df for woe and iv values\n",
    "df_with_woe_n_iv_values = pd.concat([df_new_data_with_woe_n_iv_values_discrete,df_new_data_with_woe_n_iv_values_continous],axis=0)\n",
    "df_with_woe_n_iv_values.to_csv(r\"C:\\Shubham\\credit_scorecard\\output_data\\df_new_data_with_woe_n_iv_values_train.csv\",index=False)"
   ]
  },
  {
   "cell_type": "code",
   "execution_count": 35,
   "metadata": {},
   "outputs": [],
   "source": [
    "loan_data_inputs_2015 = df_inputs_prepr\n",
    "loan_data_targets_2015 = df_targets_prepr\n",
    "\n",
    "loan_data_inputs_2015.to_csv(r'C:\\Shubham\\credit_scorecard\\output_data\\loan_data_inputs_2015.csv',index=False)\n",
    "loan_data_targets_2015.to_csv(r'C:\\Shubham\\credit_scorecard\\output_data\\loan_data_targets_2015.csv',index=False)"
   ]
  },
  {
   "cell_type": "code",
   "execution_count": 36,
   "metadata": {},
   "outputs": [],
   "source": [
    "# inputs_train_with_ref_cat = loan_data_inputs_2015.loc[: , iv_features]\n",
    "\n",
    "# # reference categories after IV filter\n",
    "# ref_categories = ['grade:G','annual_inc:<20K','int_rate:>20.281','mths_since_issue_d:>84']\n",
    "\n",
    "# inputs_train = inputs_train_with_ref_cat.drop(ref_categories, axis = 1)\n",
    "# inputs_test = inputs_test_with_ref_cat.drop(ref_categories, axis = 1)\n",
    "\n",
    "# inputs_test_with_ref_cat = loan_data_inputs_test.loc[: , iv_features]\n",
    "# inputs_test = inputs_test_with_ref_cat.drop(ref_categories, axis = 1)"
   ]
  },
  {
   "cell_type": "code",
   "execution_count": 37,
   "metadata": {},
   "outputs": [],
   "source": [
    "# calculating scores wrt PD\n",
    "inputs_train_with_ref_cat_w_intercept, inputs_2015_with_ref_cat_w_intercept = helper_functions.test_data_preprocessing(loan_data_inputs_2015)"
   ]
  },
  {
   "cell_type": "markdown",
   "metadata": {},
   "source": [
    "# Population Stability Index"
   ]
  },
  {
   "cell_type": "code",
   "execution_count": 38,
   "metadata": {},
   "outputs": [],
   "source": [
    "PSI_calc = helper_functions.pop_stability_index(inputs_train_with_ref_cat_w_intercept,inputs_2015_with_ref_cat_w_intercept)"
   ]
  },
  {
   "cell_type": "code",
   "execution_count": 39,
   "metadata": {},
   "outputs": [],
   "source": [
    "PSI_calc.to_csv(r\"C:\\Shubham\\credit_scorecard\\output_data\\psi.csv\",index=False)"
   ]
  },
  {
   "cell_type": "markdown",
   "metadata": {},
   "source": [
    "# LGD and EAD Models"
   ]
  },
  {
   "cell_type": "code",
   "execution_count": 40,
   "metadata": {},
   "outputs": [],
   "source": [
    "# importing data\n",
    "loan_data_backup = pd.read_csv(r\"C:\\Shubham\\credit_scorecard\\input_data\\loan_data_2007_2014.csv\")\n",
    "loan_data = loan_data_backup.copy()"
   ]
  },
  {
   "cell_type": "code",
   "execution_count": 41,
   "metadata": {},
   "outputs": [],
   "source": [
    "loan_data = helper_functions.preprocessing_continous_variables(loan_data.copy())\n",
    "loan_data = helper_functions.preprocessing_discrete_variables(loan_data.copy())\n",
    "loan_data = helper_functions.deal_with_missing_values(loan_data.copy())\n",
    "loan_data = helper_functions.target_var(loan_data.copy())\n",
    "# in loan_data, dummy variable columns are present, but binning has not been done for LGD and EAD Models."
   ]
  },
  {
   "cell_type": "code",
   "execution_count": 42,
   "metadata": {},
   "outputs": [],
   "source": [
    "loan_data_defaults = loan_data[loan_data['loan_status'].isin(['Charged Off','Does not meet the credit policy. Status:Charged Off'])]\n",
    "\n",
    "loan_data_defaults['mths_since_last_delinq'].fillna(0, inplace = True)\n",
    "loan_data_defaults['mths_since_last_record'].fillna(0, inplace=True)\n",
    "\n",
    "loan_data_defaults = helper_functions.dependent_var_creation(loan_data_defaults)"
   ]
  },
  {
   "cell_type": "markdown",
   "metadata": {},
   "source": [
    "Exploring Dependent Variables"
   ]
  },
  {
   "cell_type": "code",
   "execution_count": 43,
   "metadata": {},
   "outputs": [
    {
     "data": {
      "image/png": "[encoded data removed]",
      "text/plain": [
       "<Figure size 640x480 with 1 Axes>"
      ]
     },
     "metadata": {},
     "output_type": "display_data"
    }
   ],
   "source": [
    "plt.hist(loan_data_defaults['recovery_rate'], bins = 50)\n",
    "plt.show()"
   ]
  },
  {
   "cell_type": "code",
   "execution_count": 44,
   "metadata": {},
   "outputs": [
    {
     "data": {
      "image/png": "[encoded data removed]",
      "text/plain": [
       "<Figure size 640x480 with 1 Axes>"
      ]
     },
     "metadata": {},
     "output_type": "display_data"
    }
   ],
   "source": [
    "plt.hist(loan_data_defaults['CCF'], bins = 100)\n",
    "plt.show()"
   ]
  },
  {
   "cell_type": "code",
   "execution_count": 132,
   "metadata": {},
   "outputs": [],
   "source": [
    "from sklearn.model_selection import train_test_split\n",
    "lgd_inputs_stage_1_train, lgd_inputs_stage_1_test, lgd_targets_stage_1_train, lgd_targets_stage_1_test = train_test_split(loan_data_defaults.drop(['good_bad', 'recovery_rate','recovery_rate_0_1', 'CCF'], axis = 1), loan_data_defaults['recovery_rate_0_1'], test_size = 0.2, random_state = 42)"
   ]
  },
  {
   "cell_type": "code",
   "execution_count": 133,
   "metadata": {},
   "outputs": [],
   "source": [
    "lgd_inputs_stage_1_train = helper_functions.filter_lgd_train_data(lgd_inputs_stage_1_train)"
   ]
  },
  {
   "cell_type": "code",
   "execution_count": 154,
   "metadata": {},
   "outputs": [
    {
     "data": {
      "text/html": [
       "<div>\n",
       "<style scoped>\n",
       "    .dataframe tbody tr th:only-of-type {\n",
       "        vertical-align: middle;\n",
       "    }\n",
       "\n",
       "    .dataframe tbody tr th {\n",
       "        vertical-align: top;\n",
       "    }\n",
       "\n",
       "    .dataframe thead th {\n",
       "        text-align: right;\n",
       "    }\n",
       "</style>\n",
       "<table border=\"1\" class=\"dataframe\">\n",
       "  <thead>\n",
       "    <tr style=\"text-align: right;\">\n",
       "      <th></th>\n",
       "      <th>grade:A</th>\n",
       "      <th>grade:B</th>\n",
       "      <th>grade:C</th>\n",
       "      <th>grade:D</th>\n",
       "      <th>grade:E</th>\n",
       "      <th>grade:F</th>\n",
       "      <th>home_ownership:MORTGAGE</th>\n",
       "      <th>home_ownership:NONE</th>\n",
       "      <th>home_ownership:OTHER</th>\n",
       "      <th>home_ownership:OWN</th>\n",
       "      <th>verification_status:Not Verified</th>\n",
       "      <th>verification_status:Source Verified</th>\n",
       "      <th>purpose:car</th>\n",
       "      <th>purpose:debt_consolidation</th>\n",
       "      <th>purpose:educational</th>\n",
       "      <th>purpose:home_improvement</th>\n",
       "      <th>purpose:house</th>\n",
       "      <th>purpose:major_purchase</th>\n",
       "      <th>purpose:medical</th>\n",
       "      <th>purpose:moving</th>\n",
       "      <th>purpose:other</th>\n",
       "      <th>purpose:renewable_energy</th>\n",
       "      <th>purpose:small_business</th>\n",
       "      <th>purpose:vacation</th>\n",
       "      <th>purpose:wedding</th>\n",
       "      <th>initial_list_status:w</th>\n",
       "      <th>term_int</th>\n",
       "      <th>emp_length_int</th>\n",
       "      <th>mths_since_issue_d</th>\n",
       "      <th>mths_since_earliest_cr_line</th>\n",
       "      <th>funded_amnt</th>\n",
       "      <th>int_rate</th>\n",
       "      <th>installment</th>\n",
       "      <th>annual_inc</th>\n",
       "      <th>dti</th>\n",
       "      <th>delinq_2yrs</th>\n",
       "      <th>inq_last_6mths</th>\n",
       "      <th>mths_since_last_delinq</th>\n",
       "      <th>mths_since_last_record</th>\n",
       "      <th>open_acc</th>\n",
       "      <th>pub_rec</th>\n",
       "      <th>total_acc</th>\n",
       "      <th>acc_now_delinq</th>\n",
       "      <th>total_rev_hi_lim</th>\n",
       "    </tr>\n",
       "  </thead>\n",
       "  <tbody>\n",
       "    <tr>\n",
       "      <th>165859</th>\n",
       "      <td>0</td>\n",
       "      <td>0</td>\n",
       "      <td>0</td>\n",
       "      <td>1</td>\n",
       "      <td>0</td>\n",
       "      <td>0</td>\n",
       "      <td>0</td>\n",
       "      <td>0</td>\n",
       "      <td>0</td>\n",
       "      <td>0</td>\n",
       "      <td>1</td>\n",
       "      <td>0</td>\n",
       "      <td>0</td>\n",
       "      <td>1</td>\n",
       "      <td>0</td>\n",
       "      <td>0</td>\n",
       "      <td>0</td>\n",
       "      <td>0</td>\n",
       "      <td>0</td>\n",
       "      <td>0</td>\n",
       "      <td>0</td>\n",
       "      <td>0</td>\n",
       "      <td>0</td>\n",
       "      <td>0</td>\n",
       "      <td>0</td>\n",
       "      <td>1</td>\n",
       "      <td>36</td>\n",
       "      <td>8.0</td>\n",
       "      <td>58</td>\n",
       "      <td>174.0</td>\n",
       "      <td>13550</td>\n",
       "      <td>18.49</td>\n",
       "      <td>493.21</td>\n",
       "      <td>38000.0</td>\n",
       "      <td>26.31</td>\n",
       "      <td>0.0</td>\n",
       "      <td>2.0</td>\n",
       "      <td>0.0</td>\n",
       "      <td>0.0</td>\n",
       "      <td>17.0</td>\n",
       "      <td>0.0</td>\n",
       "      <td>34.0</td>\n",
       "      <td>0.0</td>\n",
       "      <td>13700.0</td>\n",
       "    </tr>\n",
       "  </tbody>\n",
       "</table>\n",
       "</div>"
      ],
      "text/plain": [
       "        grade:A  grade:B  grade:C  grade:D  grade:E  grade:F  \\\n",
       "165859        0        0        0        1        0        0   \n",
       "\n",
       "        home_ownership:MORTGAGE  home_ownership:NONE  home_ownership:OTHER  \\\n",
       "165859                        0                    0                     0   \n",
       "\n",
       "        home_ownership:OWN  verification_status:Not Verified  \\\n",
       "165859                   0                                 1   \n",
       "\n",
       "        verification_status:Source Verified  purpose:car  \\\n",
       "165859                                    0            0   \n",
       "\n",
       "        purpose:debt_consolidation  purpose:educational  \\\n",
       "165859                           1                    0   \n",
       "\n",
       "        purpose:home_improvement  purpose:house  purpose:major_purchase  \\\n",
       "165859                         0              0                       0   \n",
       "\n",
       "        purpose:medical  purpose:moving  purpose:other  \\\n",
       "165859                0               0              0   \n",
       "\n",
       "        purpose:renewable_energy  purpose:small_business  purpose:vacation  \\\n",
       "165859                         0                       0                 0   \n",
       "\n",
       "        purpose:wedding  initial_list_status:w  term_int  emp_length_int  \\\n",
       "165859                0                      1        36             8.0   \n",
       "\n",
       "        mths_since_issue_d  mths_since_earliest_cr_line  funded_amnt  \\\n",
       "165859                  58                        174.0        13550   \n",
       "\n",
       "        int_rate  installment  annual_inc    dti  delinq_2yrs  inq_last_6mths  \\\n",
       "165859     18.49       493.21     38000.0  26.31          0.0             2.0   \n",
       "\n",
       "        mths_since_last_delinq  mths_since_last_record  open_acc  pub_rec  \\\n",
       "165859                     0.0                     0.0      17.0      0.0   \n",
       "\n",
       "        total_acc  acc_now_delinq  total_rev_hi_lim  \n",
       "165859       34.0             0.0           13700.0  "
      ]
     },
     "execution_count": 154,
     "metadata": {},
     "output_type": "execute_result"
    }
   ],
   "source": [
    "lgd_inputs_stage_1_train.head(1)"
   ]
  },
  {
   "cell_type": "code",
   "execution_count": 48,
   "metadata": {},
   "outputs": [],
   "source": [
    "# null_counts = lgd_inputs_stage_1_train.isnull().sum()\n",
    "# for column, count in null_counts[null_counts > 0].items():\n",
    "#     print(f\"{column}: {count}\")"
   ]
  },
  {
   "cell_type": "markdown",
   "metadata": {},
   "source": [
    "# Stage-1: Logistic Regression"
   ]
  },
  {
   "cell_type": "markdown",
   "metadata": {},
   "source": [
    "Estimating the Model"
   ]
  },
  {
   "cell_type": "code",
   "execution_count": 49,
   "metadata": {},
   "outputs": [],
   "source": [
    "reg_lgd_st_1, summary_table_st_1 = helper_functions.logistic_regression_with_p_values(lgd_inputs_stage_1_train, lgd_targets_stage_1_train)"
   ]
  },
  {
   "cell_type": "markdown",
   "metadata": {},
   "source": [
    "Filtering Features from Test Data"
   ]
  },
  {
   "cell_type": "code",
   "execution_count": 50,
   "metadata": {},
   "outputs": [],
   "source": [
    "lgd_inputs_stage_1_test = helper_functions.filter_lgd_train_data(lgd_inputs_stage_1_test)"
   ]
  },
  {
   "cell_type": "markdown",
   "metadata": {},
   "source": [
    "Evaluating the Model"
   ]
  },
  {
   "cell_type": "code",
   "execution_count": 51,
   "metadata": {},
   "outputs": [],
   "source": [
    "df_actual_predicted_probs = helper_functions.out_of_sample_validation(lgd_inputs_stage_1_test,lgd_targets_stage_1_test,reg_lgd_st_1)"
   ]
  },
  {
   "cell_type": "code",
   "execution_count": 52,
   "metadata": {},
   "outputs": [
    {
     "data": {
      "text/html": [
       "<div>\n",
       "<style scoped>\n",
       "    .dataframe tbody tr th:only-of-type {\n",
       "        vertical-align: middle;\n",
       "    }\n",
       "\n",
       "    .dataframe tbody tr th {\n",
       "        vertical-align: top;\n",
       "    }\n",
       "\n",
       "    .dataframe thead th {\n",
       "        text-align: right;\n",
       "    }\n",
       "</style>\n",
       "<table border=\"1\" class=\"dataframe\">\n",
       "  <thead>\n",
       "    <tr style=\"text-align: right;\">\n",
       "      <th></th>\n",
       "      <th>loan_data_targets_test</th>\n",
       "      <th>y_hat_test_proba</th>\n",
       "    </tr>\n",
       "  </thead>\n",
       "  <tbody>\n",
       "    <tr>\n",
       "      <th>178928</th>\n",
       "      <td>1</td>\n",
       "      <td>0.609241</td>\n",
       "    </tr>\n",
       "    <tr>\n",
       "      <th>69814</th>\n",
       "      <td>1</td>\n",
       "      <td>0.610980</td>\n",
       "    </tr>\n",
       "    <tr>\n",
       "      <th>101396</th>\n",
       "      <td>0</td>\n",
       "      <td>0.454865</td>\n",
       "    </tr>\n",
       "    <tr>\n",
       "      <th>463268</th>\n",
       "      <td>1</td>\n",
       "      <td>0.547295</td>\n",
       "    </tr>\n",
       "    <tr>\n",
       "      <th>253729</th>\n",
       "      <td>0</td>\n",
       "      <td>0.414709</td>\n",
       "    </tr>\n",
       "  </tbody>\n",
       "</table>\n",
       "</div>"
      ],
      "text/plain": [
       "        loan_data_targets_test  y_hat_test_proba\n",
       "178928                       1          0.609241\n",
       "69814                        1          0.610980\n",
       "101396                       0          0.454865\n",
       "463268                       1          0.547295\n",
       "253729                       0          0.414709"
      ]
     },
     "execution_count": 52,
     "metadata": {},
     "output_type": "execute_result"
    }
   ],
   "source": [
    "df_actual_predicted_probs.head()"
   ]
  },
  {
   "cell_type": "markdown",
   "metadata": {},
   "source": [
    "Estimating Accuracy of the Model"
   ]
  },
  {
   "cell_type": "code",
   "execution_count": 53,
   "metadata": {},
   "outputs": [
    {
     "name": "stdout",
     "output_type": "stream",
     "text": [
      "Predicted     0     1\n",
      "Actual               \n",
      "0          2723  1039\n",
      "1          2451  2435\n"
     ]
    },
    {
     "data": {
      "image/png": "[encoded data removed]",
      "text/plain": [
       "<Figure size 640x480 with 1 Axes>"
      ]
     },
     "metadata": {},
     "output_type": "display_data"
    }
   ],
   "source": [
    "df_actual_predicted_probs, confusion_matrix, accuracy, fpr, tpr, thresholds, AUROC = helper_functions.accuracy_n_auc(df_actual_predicted_probs)"
   ]
  },
  {
   "cell_type": "code",
   "execution_count": 135,
   "metadata": {},
   "outputs": [
    {
     "name": "stdout",
     "output_type": "stream",
     "text": [
      "accuracy: 0.5964384828862165\n",
      "fpr: [0.         0.         0.         ... 0.99946837 0.99946837 1.        ]\n",
      "tpr: [0.00000000e+00 2.04666394e-04 1.02333197e-03 ... 9.99795334e-01\n",
      " 1.00000000e+00 1.00000000e+00]\n",
      "thresholds: [1.89356133e+00 8.93561326e-01 8.59845928e-01 ... 1.97266711e-01\n",
      " 1.81769131e-01 2.55891577e-06]\n",
      "AUROC: 0.6452731529265988\n"
     ]
    }
   ],
   "source": [
    "print('accuracy:',accuracy)\n",
    "print('fpr:',fpr)\n",
    "print('tpr:',tpr)\n",
    "print('thresholds:',thresholds)\n",
    "print('AUROC:',AUROC)"
   ]
  },
  {
   "cell_type": "code",
   "execution_count": 55,
   "metadata": {},
   "outputs": [
    {
     "data": {
      "text/plain": [
       "Index(['loan_data_targets_test', 'y_hat_test_proba', 'y_hat_test'], dtype='object')"
      ]
     },
     "execution_count": 55,
     "metadata": {},
     "output_type": "execute_result"
    }
   ],
   "source": [
    "df_actual_predicted_probs.columns"
   ]
  },
  {
   "cell_type": "code",
   "execution_count": 57,
   "metadata": {},
   "outputs": [],
   "source": [
    "df_actual_predicted_probs.columns = ['lgd_targets_stage_1_test', 'y_hat_test_proba_lgd_stage_1','y_hat_test_lgd_stage_1']"
   ]
  },
  {
   "cell_type": "markdown",
   "metadata": {},
   "source": [
    "Saving the Model"
   ]
  },
  {
   "cell_type": "code",
   "execution_count": 56,
   "metadata": {},
   "outputs": [],
   "source": [
    "pickle.dump(reg_lgd_st_1, open(r'C:\\Shubham\\credit_scorecard\\src\\lgd_model_stage_1.sav', 'wb'))"
   ]
  },
  {
   "cell_type": "markdown",
   "metadata": {},
   "source": [
    "# Stage-2: Linear Regression"
   ]
  },
  {
   "cell_type": "markdown",
   "metadata": {},
   "source": [
    "Filtering the Data"
   ]
  },
  {
   "cell_type": "code",
   "execution_count": 58,
   "metadata": {},
   "outputs": [],
   "source": [
    "# Here we take only rows where the original recovery rate variable is greater than 1.\n",
    "# i.e. where the indicator variable we created is equal to 1.\n",
    "lgd_stage_2_data = loan_data_defaults[loan_data_defaults['recovery_rate_0_1'] == 1]"
   ]
  },
  {
   "cell_type": "markdown",
   "metadata": {},
   "source": [
    "Splitting the Data"
   ]
  },
  {
   "cell_type": "code",
   "execution_count": 59,
   "metadata": {},
   "outputs": [],
   "source": [
    "lgd_inputs_stage_2_train, lgd_inputs_stage_2_test, lgd_targets_stage_2_train, lgd_targets_stage_2_test = train_test_split(  lgd_stage_2_data.drop(['good_bad',\n",
    "                                                                                                                                                   'recovery_rate',\n",
    "                                                                                                                                                   'recovery_rate_0_1',\n",
    "                                                                                                                                                   'CCF'], axis = 1),\n",
    "                                                                                                                            lgd_stage_2_data['recovery_rate'],\n",
    "                                                                                                                            test_size = 0.2,\n",
    "                                                                                                                            random_state = 42)"
   ]
  },
  {
   "cell_type": "markdown",
   "metadata": {},
   "source": [
    "Filtering features from Input Data"
   ]
  },
  {
   "cell_type": "code",
   "execution_count": 60,
   "metadata": {},
   "outputs": [],
   "source": [
    "lgd_inputs_stage_2_train = helper_functions.filter_lgd_train_data(lgd_inputs_stage_2_train)"
   ]
  },
  {
   "cell_type": "markdown",
   "metadata": {},
   "source": [
    "Estimating the Model"
   ]
  },
  {
   "cell_type": "code",
   "execution_count": 67,
   "metadata": {},
   "outputs": [],
   "source": [
    "from scipy import stats\n",
    "from sklearn.linear_model import LinearRegression\n",
    "from sklearn import linear_model"
   ]
  },
  {
   "cell_type": "code",
   "execution_count": 68,
   "metadata": {},
   "outputs": [],
   "source": [
    "class MyLinearRegression(LinearRegression):\n",
    "    \"\"\"\n",
    "    LinearRegression class after sklearn's, but calculate t-statistics\n",
    "    and p-values for model coefficients (betas).\n",
    "    Additional attributes available after .fit()\n",
    "    are `t` and `p` which are of the shape (y.shape[1], X.shape[1])\n",
    "    which is (n_features, n_coefs)\n",
    "    This class sets the intercept to 0 by default, since usually we include it\n",
    "    in X.\n",
    "    \"\"\"\n",
    "    \n",
    "    # nothing changes in __init__\n",
    "    def __init__(self, fit_intercept=True, normalize=False, copy_X=True,\n",
    "                 n_jobs=1):\n",
    "        self.fit_intercept = fit_intercept\n",
    "        self.normalize = normalize\n",
    "        self.copy_X = copy_X\n",
    "        self.n_jobs = n_jobs\n",
    "\n",
    "    \n",
    "    def fit(self, X, y, n_jobs=1):\n",
    "        super().fit(X, y, n_jobs)\n",
    "        \n",
    "        # Calculate SSE (sum of squared errors)\n",
    "        # and SE (standard error)\n",
    "        sse = np.sum((self.predict(X) - y) ** 2, axis=0) / float(X.shape[0] - X.shape[1])\n",
    "        se = np.array([np.sqrt(np.diagonal(sse * np.linalg.inv(np.dot(X.T, X))))])\n",
    "\n",
    "        # compute the t-statistic for each feature\n",
    "        self.t = self.coef_ / se\n",
    "        # find the p-value for each feature\n",
    "        self.p = np.squeeze(2 * (1 - stats.t.cdf(np.abs(self.t), y.shape[0] - X.shape[1])))\n",
    "        return self"
   ]
  },
  {
   "cell_type": "code",
   "execution_count": 72,
   "metadata": {},
   "outputs": [],
   "source": [
    "def linear_regression_with_p_values(lgd_inputs_stage_2_train, lgd_targets_stage_2_train):\n",
    "\n",
    "    reg_lgd_st_2 = MyLinearRegression()\n",
    "    reg_lgd_st_2.fit(lgd_inputs_stage_2_train, lgd_targets_stage_2_train)\n",
    "\n",
    "    feature_name = lgd_inputs_stage_2_train.columns.values\n",
    "    summary_table = pd.DataFrame(columns = ['Feature name'], data = feature_name)\n",
    "    summary_table['Coefficients'] = np.transpose(reg_lgd_st_2.coef_)\n",
    "    summary_table.index = summary_table.index + 1\n",
    "    summary_table.loc[0] = ['Intercept', reg_lgd_st_2.intercept_]\n",
    "    summary_table = summary_table.sort_index()\n",
    "\n",
    "    p_values = reg_lgd_st_2.p\n",
    "    p_values = np.append(np.nan,np.array(p_values))\n",
    "    summary_table['p_values'] = p_values.round(3)\n",
    "\n",
    "    return reg_lgd_st_2,summary_table"
   ]
  },
  {
   "cell_type": "code",
   "execution_count": 81,
   "metadata": {},
   "outputs": [],
   "source": [
    "# logistic regression\n",
    "def linear_regression(inputs_train,loan_data_targets_train):\n",
    "\n",
    "    reg = LinearRegression()\n",
    "    reg.fit(inputs_train, loan_data_targets_train)\n",
    "\n",
    "    # creating a summary table\n",
    "    feature_name = inputs_train.columns.values\n",
    "    summary_table = pd.DataFrame(columns = ['Feature name'], data = feature_name)\n",
    "    summary_table['Coefficients'] = np.transpose(reg.coef_)\n",
    "    summary_table.index = summary_table.index + 1\n",
    "    summary_table.loc[0] = ['Intercept', reg.intercept_]\n",
    "    summary_table = summary_table.sort_index()\n",
    "\n",
    "    return reg,summary_table"
   ]
  },
  {
   "cell_type": "code",
   "execution_count": 82,
   "metadata": {},
   "outputs": [],
   "source": [
    "reg_lgd_st_2, summary_table_st_2 = linear_regression(lgd_inputs_stage_2_train, lgd_targets_stage_2_train)"
   ]
  },
  {
   "cell_type": "markdown",
   "metadata": {},
   "source": [
    "Filtering features from Test Data"
   ]
  },
  {
   "cell_type": "code",
   "execution_count": 83,
   "metadata": {},
   "outputs": [],
   "source": [
    "lgd_inputs_stage_2_test = helper_functions.filter_lgd_train_data(lgd_inputs_stage_2_test)"
   ]
  },
  {
   "cell_type": "markdown",
   "metadata": {},
   "source": [
    "Evaluating the Model"
   ]
  },
  {
   "cell_type": "code",
   "execution_count": 84,
   "metadata": {},
   "outputs": [
    {
     "data": {
      "image/png": "[encoded data removed]",
      "text/plain": [
       "<Figure size 640x480 with 1 Axes>"
      ]
     },
     "metadata": {},
     "output_type": "display_data"
    }
   ],
   "source": [
    "df_corr_st_2 = helper_functions.validate_linear_regression(reg_lgd_st_2,lgd_inputs_stage_2_test,lgd_targets_stage_2_test)"
   ]
  },
  {
   "cell_type": "code",
   "execution_count": 136,
   "metadata": {},
   "outputs": [
    {
     "data": {
      "text/html": [
       "<div>\n",
       "<style scoped>\n",
       "    .dataframe tbody tr th:only-of-type {\n",
       "        vertical-align: middle;\n",
       "    }\n",
       "\n",
       "    .dataframe tbody tr th {\n",
       "        vertical-align: top;\n",
       "    }\n",
       "\n",
       "    .dataframe thead th {\n",
       "        text-align: right;\n",
       "    }\n",
       "</style>\n",
       "<table border=\"1\" class=\"dataframe\">\n",
       "  <thead>\n",
       "    <tr style=\"text-align: right;\">\n",
       "      <th></th>\n",
       "      <th>recovery_rate</th>\n",
       "      <th>0</th>\n",
       "    </tr>\n",
       "  </thead>\n",
       "  <tbody>\n",
       "    <tr>\n",
       "      <th>recovery_rate</th>\n",
       "      <td>1.000000</td>\n",
       "      <td>0.307996</td>\n",
       "    </tr>\n",
       "    <tr>\n",
       "      <th>0</th>\n",
       "      <td>0.307996</td>\n",
       "      <td>1.000000</td>\n",
       "    </tr>\n",
       "  </tbody>\n",
       "</table>\n",
       "</div>"
      ],
      "text/plain": [
       "               recovery_rate         0\n",
       "recovery_rate       1.000000  0.307996\n",
       "0                   0.307996  1.000000"
      ]
     },
     "execution_count": 136,
     "metadata": {},
     "output_type": "execute_result"
    }
   ],
   "source": [
    "df_corr_st_2"
   ]
  },
  {
   "cell_type": "markdown",
   "metadata": {},
   "source": [
    "Saving the Model"
   ]
  },
  {
   "cell_type": "code",
   "execution_count": 85,
   "metadata": {},
   "outputs": [],
   "source": [
    "pickle.dump(reg_lgd_st_2, open(r'C:\\Shubham\\credit_scorecard\\src\\lgd_model_stage_2.sav', 'wb'))"
   ]
  },
  {
   "cell_type": "markdown",
   "metadata": {},
   "source": [
    "# Combining Stage 1 and Stage 2"
   ]
  },
  {
   "cell_type": "code",
   "execution_count": 86,
   "metadata": {},
   "outputs": [],
   "source": [
    "y_hat_test_lgd = helper_functions.combined_model(reg_lgd_st_2,reg_lgd_st_1,lgd_inputs_stage_1_test)"
   ]
  },
  {
   "cell_type": "code",
   "execution_count": 138,
   "metadata": {},
   "outputs": [
    {
     "data": {
      "text/plain": [
       "array([0.1193906 , 0.09605635, 0.        , 0.1038923 , 0.        ])"
      ]
     },
     "execution_count": 138,
     "metadata": {},
     "output_type": "execute_result"
    }
   ],
   "source": [
    "y_hat_test_lgd[:5]"
   ]
  },
  {
   "cell_type": "markdown",
   "metadata": {},
   "source": [
    "# EAD Model"
   ]
  },
  {
   "cell_type": "markdown",
   "metadata": {},
   "source": [
    "Splitting Dataset"
   ]
  },
  {
   "cell_type": "code",
   "execution_count": 87,
   "metadata": {},
   "outputs": [],
   "source": [
    "ead_inputs_train, ead_inputs_test, ead_targets_train, ead_targets_test = train_test_split(loan_data_defaults.drop(['good_bad',\n",
    "                                                                                                                   'recovery_rate',\n",
    "                                                                                                                   'recovery_rate_0_1',\n",
    "                                                                                                                   'CCF'], axis = 1),\n",
    "                                                                                        loan_data_defaults['CCF'],\n",
    "                                                                                        test_size = 0.2,\n",
    "                                                                                        random_state = 42)"
   ]
  },
  {
   "cell_type": "markdown",
   "metadata": {},
   "source": [
    "Filtering features from Input Data"
   ]
  },
  {
   "cell_type": "code",
   "execution_count": 88,
   "metadata": {},
   "outputs": [],
   "source": [
    "ead_inputs_train = helper_functions.filter_lgd_train_data(ead_inputs_train)"
   ]
  },
  {
   "cell_type": "markdown",
   "metadata": {},
   "source": [
    "Estimation and Interpretation"
   ]
  },
  {
   "cell_type": "code",
   "execution_count": 90,
   "metadata": {},
   "outputs": [],
   "source": [
    "reg_ead, summary_table_ead = linear_regression(ead_inputs_train, ead_targets_train)"
   ]
  },
  {
   "cell_type": "code",
   "execution_count": 159,
   "metadata": {},
   "outputs": [],
   "source": [
    "pickle.dump(reg_ead, open(r'C:\\Shubham\\credit_scorecard\\src\\reg_ead.sav', 'wb'))"
   ]
  },
  {
   "cell_type": "markdown",
   "metadata": {},
   "source": [
    "Filtering features from Test Data"
   ]
  },
  {
   "cell_type": "code",
   "execution_count": 91,
   "metadata": {},
   "outputs": [],
   "source": [
    "ead_inputs_test = helper_functions.filter_lgd_train_data(ead_inputs_test)"
   ]
  },
  {
   "cell_type": "markdown",
   "metadata": {},
   "source": [
    "Evaluating the Model"
   ]
  },
  {
   "cell_type": "code",
   "execution_count": 92,
   "metadata": {},
   "outputs": [
    {
     "data": {
      "image/png": "[encoded data removed]",
      "text/plain": [
       "<Figure size 640x480 with 1 Axes>"
      ]
     },
     "metadata": {},
     "output_type": "display_data"
    }
   ],
   "source": [
    "df_corr_ead, y_hat_test_ead = helper_functions.validate_ead_model(reg_ead,ead_inputs_test,ead_targets_test)"
   ]
  },
  {
   "cell_type": "code",
   "execution_count": 139,
   "metadata": {},
   "outputs": [
    {
     "data": {
      "text/html": [
       "<div>\n",
       "<style scoped>\n",
       "    .dataframe tbody tr th:only-of-type {\n",
       "        vertical-align: middle;\n",
       "    }\n",
       "\n",
       "    .dataframe tbody tr th {\n",
       "        vertical-align: top;\n",
       "    }\n",
       "\n",
       "    .dataframe thead th {\n",
       "        text-align: right;\n",
       "    }\n",
       "</style>\n",
       "<table border=\"1\" class=\"dataframe\">\n",
       "  <thead>\n",
       "    <tr style=\"text-align: right;\">\n",
       "      <th></th>\n",
       "      <th>CCF</th>\n",
       "      <th>0</th>\n",
       "    </tr>\n",
       "  </thead>\n",
       "  <tbody>\n",
       "    <tr>\n",
       "      <th>CCF</th>\n",
       "      <td>1.000000</td>\n",
       "      <td>0.530654</td>\n",
       "    </tr>\n",
       "    <tr>\n",
       "      <th>0</th>\n",
       "      <td>0.530654</td>\n",
       "      <td>1.000000</td>\n",
       "    </tr>\n",
       "  </tbody>\n",
       "</table>\n",
       "</div>"
      ],
      "text/plain": [
       "          CCF         0\n",
       "CCF  1.000000  0.530654\n",
       "0    0.530654  1.000000"
      ]
     },
     "execution_count": 139,
     "metadata": {},
     "output_type": "execute_result"
    }
   ],
   "source": [
    "df_corr_ead"
   ]
  },
  {
   "cell_type": "markdown",
   "metadata": {},
   "source": [
    "# Expected Loss"
   ]
  },
  {
   "cell_type": "code",
   "execution_count": 14,
   "metadata": {},
   "outputs": [],
   "source": [
    "with open(r'C:\\Shubham\\credit_scorecard\\src\\lgd_model_stage_1.sav',\"rb\") as file_obj:\n",
    "    lgd_model_stage_1 = pickle.load(file_obj)\n",
    "\n",
    "with open(r'C:\\Shubham\\credit_scorecard\\src\\lgd_model_stage_2.sav',\"rb\") as file_obj:\n",
    "    lgd_model_stage_2 = pickle.load(file_obj)\n",
    "\n",
    "with open(r'C:\\Shubham\\credit_scorecard\\src\\reg_ead.sav',\"rb\") as file_obj:\n",
    "    reg_ead = pickle.load(file_obj)"
   ]
  },
  {
   "cell_type": "code",
   "execution_count": 10,
   "metadata": {},
   "outputs": [],
   "source": [
    "loan_data_preprocessed = loan_data.copy()"
   ]
  },
  {
   "cell_type": "code",
   "execution_count": 11,
   "metadata": {},
   "outputs": [],
   "source": [
    "loan_data_preprocessed['mths_since_last_delinq'].fillna(0, inplace = True)\n",
    "loan_data_preprocessed['mths_since_last_record'].fillna(0, inplace = True)"
   ]
  },
  {
   "cell_type": "markdown",
   "metadata": {},
   "source": [
    "Filtering features from Input Data"
   ]
  },
  {
   "cell_type": "code",
   "execution_count": 12,
   "metadata": {},
   "outputs": [],
   "source": [
    "loan_data_preprocessed_lgd_ead = helper_functions.filter_lgd_train_data(loan_data_preprocessed)"
   ]
  },
  {
   "cell_type": "markdown",
   "metadata": {},
   "source": [
    "Estimation"
   ]
  },
  {
   "cell_type": "code",
   "execution_count": 16,
   "metadata": {},
   "outputs": [],
   "source": [
    "loan_data_preprocessed = helper_functions.expected_loss_estimation(lgd_model_stage_1,lgd_model_stage_2,reg_ead,loan_data_preprocessed,loan_data_preprocessed_lgd_ead)"
   ]
  },
  {
   "cell_type": "code",
   "execution_count": 118,
   "metadata": {},
   "outputs": [],
   "source": [
    "# loan_data_inputs_train = pd.read_csv(r'C:\\Shubham\\credit_scorecard\\output_data\\loan_data_inputs_train.csv')\n",
    "# loan_data_inputs_test = pd.read_csv(r'C:\\Shubham\\credit_scorecard\\output_data\\loan_data_inputs_test.csv')\n",
    "\n",
    "loan_data_inputs_train = df_inputs_prepr_1.copy()\n",
    "loan_data_inputs_test = df_inputs_prepr_2.copy()"
   ]
  },
  {
   "cell_type": "code",
   "execution_count": 119,
   "metadata": {},
   "outputs": [],
   "source": [
    "loan_data_inputs_pd = pd.concat([loan_data_inputs_train, loan_data_inputs_test], axis = 0)\n",
    "# loan_data_inputs_pd = loan_data_inputs_pd.set_index('Unnamed: 0')"
   ]
  },
  {
   "cell_type": "code",
   "execution_count": 124,
   "metadata": {},
   "outputs": [],
   "source": [
    "ref_categories_pd = ['grade:G','annual_inc:<20K','int_rate:>20.281','mths_since_issue_d:>84']\n",
    "loan_data_inputs_pd_temp = loan_data_inputs_pd[iv_features]\n",
    "loan_data_inputs_pd_temp = loan_data_inputs_pd_temp.drop(ref_categories_pd, axis = 1)"
   ]
  },
  {
   "cell_type": "code",
   "execution_count": 126,
   "metadata": {},
   "outputs": [
    {
     "data": {
      "text/plain": [
       "array([0.02973721, 0.10577026, 0.04126029, ..., 0.02726491, 0.04145416,\n",
       "       0.04126029])"
      ]
     },
     "execution_count": 126,
     "metadata": {},
     "output_type": "execute_result"
    }
   ],
   "source": [
    "reg_pd = pickle.load(open('pd_model.sav', 'rb'))"
   ]
  },
  {
   "cell_type": "code",
   "execution_count": 127,
   "metadata": {},
   "outputs": [],
   "source": [
    "loan_data_inputs_pd['PD'] = reg_pd.model.predict_proba(loan_data_inputs_pd_temp)[: ][: , 0]\n",
    "loan_data_preprocessed_new = pd.concat([loan_data_preprocessed, loan_data_inputs_pd], axis = 1)\n",
    "loan_data_preprocessed_new['EL'] = loan_data_preprocessed_new['PD'] * loan_data_preprocessed_new['LGD'] * loan_data_preprocessed_new['EAD']\n",
    "loan_data_preprocessed_new['EL'].sum() / loan_data_preprocessed_new['funded_amnt'].sum()\n",
    "# Total Expected Loss as a proportion of total funded amount for all loans.\n",
    "# THE END."
   ]
  }
 ],
 "metadata": {
  "kernelspec": {
   "display_name": "My Virtual Environment",
   "language": "python",
   "name": "myenv"
  },
  "language_info": {
   "codemirror_mode": {
    "name": "ipython",
    "version": 3
   },
   "file_extension": ".py",
   "mimetype": "text/x-python",
   "name": "python",
   "nbconvert_exporter": "python",
   "pygments_lexer": "ipython3",
   "version": "3.7.9"
  }
 },
 "nbformat": 4,
 "nbformat_minor": 2
}
